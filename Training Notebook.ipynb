{
 "cells": [
  {
   "cell_type": "code",
   "execution_count": 4,
   "metadata": {
    "collapsed": true
   },
   "outputs": [],
   "source": [
    "# Import\n",
    "import pandas as pd\n",
    "import sys\n",
    "from datetime import datetime\n",
    "sys.path.append('../..')\n",
    "import pickle\n",
    "\n",
    "from Classifier.data_processing import processor"
   ]
  },
  {
   "cell_type": "code",
   "execution_count": 5,
   "metadata": {},
   "outputs": [
    {
     "name": "stdout",
     "output_type": "stream",
     "text": [
      "No Reddit pickle found\n"
     ]
    }
   ],
   "source": [
    "start_time = datetime(2017,3,1)\n",
    "end_time = datetime(2018,2,28)\n",
    "interval = 1440 # 1440 minutes = 1 day\n",
    "\n",
    "data, mean, std = processor.historical_download(start_time, end_time, interval, normalize=True)"
   ]
  },
  {
   "cell_type": "code",
   "execution_count": 6,
   "metadata": {},
   "outputs": [],
   "source": [
    "# Split out 1 month validation data\n",
    "train_data = data[:-30]\n",
    "valid_data = data[-30:]"
   ]
  },
  {
   "cell_type": "code",
   "execution_count": 8,
   "metadata": {},
   "outputs": [
    {
     "name": "stdout",
     "output_type": "stream",
     "text": [
      "            Btc_addresses  Btc_daily_trx  Btc_fee_per_trx  Btc_hashrate  \\\n",
      "2018-01-24       0.320864      -0.569948         0.087758     -0.140748   \n",
      "\n",
      "            Btc_search_DE  Btc_search_FR  Btc_search_GB  Btc_search_KR  \\\n",
      "2018-01-24      -0.455087      -0.295326      -0.530261            NaN   \n",
      "\n",
      "            Btc_search_RU  Btc_search_US        ...          \\\n",
      "2018-01-24       -0.13814      -0.237623        ...           \n",
      "\n",
      "            Ltcusd_gdax_close  Ltcusd_gdax_high  Ltcusd_gdax_low  \\\n",
      "2018-01-24          -0.015969          -0.19435         0.270428   \n",
      "\n",
      "            Ltcusd_gdax_open  Ltcusd_gdax_vol  Ltcusd_kraken_close  \\\n",
      "2018-01-24         -0.217916        -0.426414            -0.265307   \n",
      "\n",
      "            Ltcusd_kraken_high  Ltcusd_kraken_low  Ltcusd_kraken_open  \\\n",
      "2018-01-24           -0.247469           0.263901           -0.016245   \n",
      "\n",
      "            Ltcusd_kraken_vol  \n",
      "2018-01-24          -0.500546  \n",
      "\n",
      "[1 rows x 96 columns]\n",
      "            Btc_addresses  Btc_daily_trx  Btc_fee_per_trx  Btc_hashrate  \\\n",
      "2018-02-22       0.572982      -0.749135        -1.486488       -0.8715   \n",
      "\n",
      "            Btc_search_DE  Btc_search_FR  Btc_search_GB  Btc_search_KR  \\\n",
      "2018-02-22      -0.349921      -0.170423      -0.025425            NaN   \n",
      "\n",
      "            Btc_search_RU  Btc_search_US        ...          \\\n",
      "2018-02-22      -0.941313      -0.326912        ...           \n",
      "\n",
      "            Ltcusd_gdax_close  Ltcusd_gdax_high  Ltcusd_gdax_low  \\\n",
      "2018-02-22          -0.980256         -0.479752        -0.909458   \n",
      "\n",
      "            Ltcusd_gdax_open  Ltcusd_gdax_vol  Ltcusd_kraken_close  \\\n",
      "2018-02-22         -1.005203        -0.287995            -0.502457   \n",
      "\n",
      "            Ltcusd_kraken_high  Ltcusd_kraken_low  Ltcusd_kraken_open  \\\n",
      "2018-02-22           -0.398199           -0.97971           -0.945244   \n",
      "\n",
      "            Ltcusd_kraken_vol  \n",
      "2018-02-22          -0.259173  \n",
      "\n",
      "[1 rows x 96 columns]\n"
     ]
    }
   ],
   "source": [
    "print(valid_data.head(1))\n",
    "print(valid_data.tail(1))"
   ]
  },
  {
   "cell_type": "code",
   "execution_count": 5,
   "metadata": {
    "collapsed": true
   },
   "outputs": [],
   "source": [
    "train_x, train_y = processor.generate_x_y(train_data, target=\"Btceur_kraken_close\") "
   ]
  },
  {
   "cell_type": "code",
   "execution_count": null,
   "metadata": {
    "collapsed": true
   },
   "outputs": [],
   "source": []
  }
 ],
 "metadata": {
  "kernelspec": {
   "display_name": "Python 3",
   "language": "python",
   "name": "python3"
  },
  "language_info": {
   "codemirror_mode": {
    "name": "ipython",
    "version": 3
   },
   "file_extension": ".py",
   "mimetype": "text/x-python",
   "name": "python",
   "nbconvert_exporter": "python",
   "pygments_lexer": "ipython3",
   "version": "3.6.3"
  }
 },
 "nbformat": 4,
 "nbformat_minor": 2
}
