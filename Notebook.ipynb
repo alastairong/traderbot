{
 "cells": [
  {
   "cell_type": "markdown",
   "metadata": {},
   "source": [
    "Helper functions to download trading data"
   ]
  },
  {
   "cell_type": "code",
   "execution_count": 6,
   "metadata": {},
   "outputs": [],
   "source": [
    "# Import packages\n",
    "import pandas\n",
    "import time\n",
    "import requests\n",
    "from datetime import datetime, timedelta\n",
    "\n",
    "# GDAX download functions\n",
    "\n",
    "def date_to_iso8601(date):\n",
    "    return '{year}-{month:02d}-{day:02d}T{hour:02d}:{minute:02d}:{second:02d}'.format(\n",
    "      year=date.year,\n",
    "      month=date.month,\n",
    "      day=date.day,\n",
    "      hour=date.hour,\n",
    "      minute=date.minute,\n",
    "      second=date.second)\n",
    "\n",
    "\n",
    "def gdax_request_trade_slice(product_id, start, end, granularity):\n",
    "    \"\"\"\n",
    "    Single HTTP request function with error catching and management for server error responses\n",
    "    Response is in the format: [[time, low, high, open, close, volume], ...]\n",
    "    \"\"\"\n",
    "    # Allow 3 retries (we might get rate limited).\n",
    "    retries = 3\n",
    "    \n",
    "    # Change dates to iso8601 format as specified\n",
    "    iso_start = date_to_iso8601(start)\n",
    "    iso_end = date_to_iso8601(end)\n",
    "\n",
    "    # Set uri\n",
    "    uri = 'https://api.gdax.com/products/{currency_pair}/candles'.format(currency_pair=product_id)\n",
    "    \n",
    "    for retry_count in range(0, retries):\n",
    "        response = requests.get(uri, {\n",
    "          'start': iso_start,\n",
    "          'end': iso_end,\n",
    "          'granularity': granularity * 60 # Converting to seconds for API\n",
    "        })\n",
    "        if response.status_code != 200:\n",
    "            if retry_count + 1 == retries:\n",
    "                raise Exception('Failed to get exchange data for ({}, {})! Error message: {}'.format(start, end, response.text))\n",
    "            else:\n",
    "                # Exponential back-off.\n",
    "                time.sleep(1.5 ** retry_count)\n",
    "        else:\n",
    "            # Sort the historic rates (in ascending order) based on the timestamp.\n",
    "            result = sorted(response.json(), key=lambda x: x[0])\n",
    "            return result\n",
    "\n",
    "        \n",
    "def gdax_request_order_book(product_id, level):\n",
    "    \"\"\"\n",
    "    Returns the current order book for a currency pair. \n",
    "    :Level: Granularity level 1, 2, or 3 as defined by API. Default = 1, preferred for my usage is 2.\n",
    "    Level 2 response example: \n",
    "    {\n",
    "        \"sequence\": \"3\",\n",
    "        \"bids\": [\n",
    "            [ price, size, num-orders ],\n",
    "            [ \"295.96\", \"4.39088265\", 2 ],\n",
    "            ...\n",
    "        ],\n",
    "        \"asks\": [\n",
    "            [ price, size, num-orders ],\n",
    "            [ \"295.97\", \"25.23542881\", 12 ],\n",
    "            ...\n",
    "        ]\n",
    "    }\n",
    "    \"\"\"\n",
    "    # Allow 3 retries (we might get rate limited).\n",
    "    retries = 3\n",
    "\n",
    "    # Set uri\n",
    "    uri = 'https://api.gdax.com/products/{currency_pair}/book'.format(currency_pair=product_id)\n",
    "    \n",
    "    for retry_count in range(0, retries):\n",
    "        response = requests.get(uri, {\n",
    "          'level': level\n",
    "        })\n",
    "        if response.status_code != 200 or not len(response.json()):\n",
    "            if retry_count + 1 == retries:\n",
    "                raise Exception('Failed to get order book data! Error message: {}'.format(response.text))\n",
    "            else:\n",
    "                # Exponential back-off.\n",
    "                time.sleep(1.5 ** retry_count)\n",
    "        else:\n",
    "            return result\n",
    "\n",
    "        \n",
    "def gdax_trade_downloader(currency_pair, start, end, interval):\n",
    "    \"\"\"\n",
    "    Breaks up gdax trade data requests into chunks of 200 candlesticks to download in 1 second intervals, to comply with GDAX API rules\n",
    "    :currency_pair: string with requested crypto-fiat pair\n",
    "    :start: start of time period as datetime object\n",
    "    :end: end of time period as datetime object\n",
    "    :interval: candlestick intervals in ninutes\n",
    "    Returns an array with rows of candlestick data in the following format: [timestamp, low, high, open, close, volume]    \n",
    "    \"\"\"      \n",
    "    data = [] # Empty list to append data \n",
    "    delta = timedelta(minutes=interval * 200) # 200 intervals per request\n",
    "    slice_start = start\n",
    "    while slice_start != end:\n",
    "        slice_end = min(slice_start + delta, end)\n",
    "        print(\"downloading {} data from {} to {}\".format(currency_pair, slice_start, slice_end))\n",
    "        data += gdax_request_trade_slice(\n",
    "                product_id=currency_pair,\n",
    "                start=slice_start,\n",
    "                end=slice_end,\n",
    "                granularity=interval\n",
    "        )\n",
    "        slice_start = slice_end\n",
    "        time.sleep(0.5)\n",
    "\n",
    "    data_frame = pandas.DataFrame(data=data, columns=['time', 'low', 'high', 'open', 'close', 'volume'])\n",
    "    data_frame.set_index('time', inplace=True)\n",
    "    return data_frame\n",
    "\n",
    "\n",
    "def gdax_order_book_downloader(currency_pair, interval, start_time, end_time):\n",
    "    \"\"\"\n",
    "    Script to download order book at regular intervals. Will work out how to use this data with deep learning network later :)\n",
    "    :currency_pair: string with requested crypto-fiat pair\n",
    "    :interval: request intervals in minutes\n",
    "    :start_time: datetime object - the time at which this operation should start requesting data\n",
    "    :end_time: datetime object - the time at which this operation should finish\n",
    "    Returns something...\n",
    "    \"\"\"\n",
    "    data = [] # Empty list to append data\n",
    "    \n",
    "    # Calculate time to next interval\n",
    "    time_to_start =  min(start_time - datetime.datetime.now(),0) # Start when specified, or now if specified time is in the past\n",
    "    time.sleep(time_to_start)\n",
    "    \n",
    "    while datetime.datetime.now() < end_time:\n",
    "        data += gdax_request_order_book(\n",
    "                product_id=currency_pair,\n",
    "                level=2\n",
    "        )\n",
    "        time.sleep(interval*60) # sleep takes time in seconds\n",
    "    \n",
    "    return data\n",
    "    \n",
    "    # Need to work out what I want to do with this. Order book has 2 pieces of important information. Presence of any walls, and overall size    \n",
    "    \n",
    "    "
   ]
  },
  {
   "cell_type": "code",
   "execution_count": 153,
   "metadata": {},
   "outputs": [],
   "source": [
    "# Kraken API\n",
    "import numpy as np\n",
    "import krakenex\n",
    "import pytz\n",
    "from pykrakenapi import KrakenAPI\n",
    "\n",
    "def datetime_to_interval(dt, interval): # Round a datetime DOWN to the nearest interval\n",
    "    interval = datetime(dt.year, dt.month, dt.day, dt.hour, dt.minute // interval * interval)\n",
    "    return interval\n",
    "\n",
    "def kraken_request_trade_slice(currency_pair, start, interval):    \n",
    "    \"\"\"\n",
    "    Initializes Kraken API from pykrakenapi library and calls get_trade function. Batches trade data into OHLC (candles) \n",
    "    :currency_pair: string with requested crypto-fiat pair\n",
    "    :start: start of time period as datetime object, defaults to earliest if not passed through\n",
    "    :interval: candlestick intervals in ninutes\n",
    "    Returns an array with rows of candlestick data in the following format: ['time', 'low', 'high', 'open', 'close', 'volume']    \n",
    "    \"\"\"     \n",
    "    api = krakenex.API()\n",
    "    k = KrakenAPI(api)\n",
    "    timestamp = start.replace(tzinfo=pytz.utc).timestamp()\n",
    "    trades, last = k.get_recent_trades(currency_pair, timestamp, ascending=True)\n",
    "    \n",
    "    return trades, last/1000000000\n",
    "\n",
    "def kraken_to_ohlc(trades):\n",
    "    \"\"\"\n",
    "    Groups and processes individual trade data to return OHLC (candle) data\n",
    "    :trades: trades pandas dataframe as returned by kraken_trade_downloader\n",
    "    Returns an array with rows of candlestick data in the following format: ['time', 'low', 'high', 'open', 'close', 'volume']    \n",
    "    \"\"\"\n",
    "    # Converts unix timestamp data into candle interval periods. Period time corresponds to beginning of period\n",
    "    trades['datetime'] = pandas.to_datetime(trades['time'], unit='s') # Reformat unix timestamp as datetime\n",
    "    trades['period'] = trades['datetime'].map(lambda x: datetime_to_interval(x, interval))\n",
    "    \n",
    "    # Group trades into periods to aggregate volume and get low/high price\n",
    "    trade_agg = trades.groupby('period')\n",
    "    trade_agg = trade_agg.agg({\n",
    "        'price': {'low': np.min, 'high': np.max},\n",
    "        'volume': np.sum\n",
    "    })\n",
    "    \n",
    "    # Create a fresh pandas dataframe and copies data from aggregated trades dataframe above\n",
    "    ohlc = pandas.DataFrame(index=trade_agg.index.values, columns=['low', 'high', 'open', 'close', 'volume'])\n",
    "    ohlc['low'] = trade_agg['price']['low']\n",
    "    ohlc['high'] = trade_agg['price']['high']\n",
    "    ohlc['volume'] = trade_agg['volume']['sum']\n",
    "    \n",
    "    # Iterate through each candle period and searches original trades dataframe for the first and last price, then set that\n",
    "    for i, row in ohlc.iterrows():\n",
    "        selection = trades.loc[kraken_data['period'] == i] # Return all rows for the current period\n",
    "        first_trade_index = selection['time'].idxmax()\n",
    "        first_trade_price = selection.loc[first_trade_index]['price']\n",
    "        ohlc.at[i, 'open'] = first_trade_price\n",
    "        last_trade_index = selection['time'].idxmin()\n",
    "        last_trade_price = selection.loc[last_trade_index]['price']\n",
    "        ohlc.at[i, 'close'] = last_trade_price\n",
    "\n",
    "    return ohlc\n",
    "\n"
   ]
  },
  {
   "cell_type": "code",
   "execution_count": 156,
   "metadata": {
    "scrolled": true
   },
   "outputs": [
    {
     "name": "stdout",
     "output_type": "stream",
     "text": [
      "time period ending 1440760913.8417077\n",
      "time period ending 1440760913.8417077\n",
      "time period ending 1440760913.8417077\n",
      "time period ending 1440760913.8417077\n",
      "time period ending 1440760913.8417077\n",
      "time period ending 1440760913.8417077\n",
      "time period ending 1440760913.8417077\n",
      "time period ending 1440760913.8417077\n",
      "time period ending 1440760913.8417077\n",
      "time period ending 1440760913.8417077\n",
      "time period ending 1440760913.8417077\n",
      "time period ending 1440760913.8417077\n"
     ]
    },
    {
     "ename": "KeyboardInterrupt",
     "evalue": "",
     "output_type": "error",
     "traceback": [
      "\u001b[1;31m---------------------------------------------------------------------------\u001b[0m",
      "\u001b[1;31mKeyboardInterrupt\u001b[0m                         Traceback (most recent call last)",
      "\u001b[1;32m<ipython-input-156-eb275524c1cb>\u001b[0m in \u001b[0;36m<module>\u001b[1;34m()\u001b[0m\n\u001b[0;32m     16\u001b[0m     \u001b[1;32mreturn\u001b[0m \u001b[0mdata\u001b[0m\u001b[1;33m\u001b[0m\u001b[0m\n\u001b[0;32m     17\u001b[0m \u001b[1;33m\u001b[0m\u001b[0m\n\u001b[1;32m---> 18\u001b[1;33m \u001b[0mkraken_trade_downloader\u001b[0m\u001b[1;33m(\u001b[0m\u001b[0mcurrency_pair\u001b[0m\u001b[1;33m,\u001b[0m \u001b[0mstart\u001b[0m\u001b[1;33m,\u001b[0m \u001b[0mend\u001b[0m\u001b[1;33m,\u001b[0m \u001b[0minterval\u001b[0m\u001b[1;33m)\u001b[0m\u001b[1;33m\u001b[0m\u001b[0m\n\u001b[0m",
      "\u001b[1;32m<ipython-input-156-eb275524c1cb>\u001b[0m in \u001b[0;36mkraken_trade_downloader\u001b[1;34m(currency_pair, start, end, interval)\u001b[0m\n\u001b[0;32m     12\u001b[0m         \u001b[0mnew_data\u001b[0m\u001b[1;33m,\u001b[0m \u001b[0mlast\u001b[0m \u001b[1;33m=\u001b[0m \u001b[0mkraken_request_trade_slice\u001b[0m\u001b[1;33m(\u001b[0m\u001b[0mcurrency_pair\u001b[0m\u001b[1;33m,\u001b[0m \u001b[0mslice_start\u001b[0m\u001b[1;33m,\u001b[0m \u001b[0minterval\u001b[0m\u001b[1;33m)\u001b[0m\u001b[1;33m\u001b[0m\u001b[0m\n\u001b[0;32m     13\u001b[0m         \u001b[0mdata\u001b[0m\u001b[1;33m.\u001b[0m\u001b[0mappend\u001b[0m\u001b[1;33m(\u001b[0m\u001b[0mnew_data\u001b[0m\u001b[1;33m)\u001b[0m\u001b[1;33m\u001b[0m\u001b[0m\n\u001b[1;32m---> 14\u001b[1;33m         \u001b[0mtime\u001b[0m\u001b[1;33m.\u001b[0m\u001b[0msleep\u001b[0m\u001b[1;33m(\u001b[0m\u001b[1;36m0.5\u001b[0m\u001b[1;33m)\u001b[0m\u001b[1;33m\u001b[0m\u001b[0m\n\u001b[0m\u001b[0;32m     15\u001b[0m         \u001b[0mprint\u001b[0m\u001b[1;33m(\u001b[0m\u001b[1;34m\"time period ending {}\"\u001b[0m\u001b[1;33m.\u001b[0m\u001b[0mformat\u001b[0m\u001b[1;33m(\u001b[0m\u001b[0mlast\u001b[0m\u001b[1;33m)\u001b[0m\u001b[1;33m)\u001b[0m\u001b[1;33m\u001b[0m\u001b[0m\n\u001b[0;32m     16\u001b[0m     \u001b[1;32mreturn\u001b[0m \u001b[0mdata\u001b[0m\u001b[1;33m\u001b[0m\u001b[0m\n",
      "\u001b[1;31mKeyboardInterrupt\u001b[0m: "
     ]
    }
   ],
   "source": [
    "interval = 5\n",
    "currency_pair = 'XETHZUSD'\n",
    "start = datetime(2015,5,1)\n",
    "end = datetime(2017,5,2)\n",
    "\n",
    "def kraken_trade_downloader(currency_pair, start, end, interval):\n",
    "    slice_start = start\n",
    "    end_timestamp = end.replace(tzinfo=pytz.utc).timestamp()\n",
    "    data, last = kraken_request_trade_slice(currency_pair, start, interval)\n",
    "    while last < end_timestamp:        \n",
    "        slice_start = datetime.fromtimestamp(last)\n",
    "        new_data, last = kraken_request_trade_slice(currency_pair, slice_start, interval)\n",
    "        data.append(new_data)\n",
    "        time.sleep(0.5)\n",
    "        print(\"time period ending {}\".format(last))\n",
    "    return data\n",
    "\n",
    "kraken_trade_downloader(currency_pair, start, end, interval)"
   ]
  },
  {
   "cell_type": "code",
   "execution_count": 35,
   "metadata": {},
   "outputs": [
    {
     "name": "stdout",
     "output_type": "stream",
     "text": [
      "downloading BTC-USD data from 2015-05-01 00:00:00 to 2015-05-01 16:40:00\n",
      "downloading BTC-USD data from 2015-05-01 16:40:00 to 2015-05-02 00:00:00\n",
      "               low    high    open   close     volume\n",
      "time                                                 \n",
      "1430438400  236.42  236.78  236.78  236.50   1.626472\n",
      "1430438700  236.01  236.49  236.49  236.01   2.784245\n",
      "1430439000  236.00  236.10  236.01  236.00  73.308585\n",
      "1430439300  236.00  236.04  236.04  236.04   6.197529\n",
      "1430439600  235.79  236.00  236.00  235.80  15.201524\n",
      "1430439900  235.73  235.82  235.80  235.74  13.571108\n",
      "1430440200  235.74  235.78  235.74  235.74   4.429600\n",
      "1430440500  235.74  235.80  235.75  235.77   1.208400\n",
      "1430440800  235.68  235.83  235.76  235.71   5.973491\n",
      "1430441100  235.75  235.92  235.75  235.90   0.107201\n",
      "1430441400  235.91  236.21  235.92  236.21  22.815325\n",
      "1430441700  236.27  236.40  236.28  236.40   1.700810\n",
      "1430442000  236.42  238.09  236.42  236.99   5.950986\n",
      "1430442300  236.96  237.19  236.96  237.18   5.385106\n",
      "1430442600  237.17  238.28  237.17  237.43   2.638588\n",
      "1430442900  237.32  237.52  237.42  237.52  10.048027\n",
      "1430443200  237.47  238.26  237.54  237.93   3.967324\n",
      "1430443500  237.42  238.03  237.52  237.99   3.891266\n",
      "1430443800  237.49  238.26  237.98  238.26   1.533247\n",
      "1430444100  237.72  238.45  238.25  237.72  10.142178\n",
      "1430444400  237.50  237.92  237.70  237.88   1.955038\n",
      "1430444700  237.87  238.08  237.90  238.08   2.200881\n",
      "1430445000  237.61  237.94  237.92  237.87   2.758732\n",
      "1430445300  237.75  237.87  237.87  237.84   3.158556\n",
      "1430445600  237.68  237.85  237.83  237.81   2.547824\n",
      "1430445900  237.66  237.82  237.82  237.70   1.324251\n",
      "1430446200  237.70  237.81  237.70  237.70   6.601390\n",
      "1430446500  237.71  237.81  237.81  237.80   8.690996\n",
      "1430446800  237.71  237.81  237.80  237.81   2.792235\n",
      "1430447100  237.56  237.84  237.80  237.57  15.364900\n",
      "...            ...     ...     ...     ...        ...\n",
      "1430515800  235.17  235.42  235.33  235.32   2.892303\n",
      "1430516100  235.10  235.43  235.33  235.11   7.011009\n",
      "1430516400  234.99  235.13  235.11  235.07  13.187699\n",
      "1430516700  235.03  235.24  235.06  235.13  11.690175\n",
      "1430517000  235.15  235.37  235.15  235.24   8.401615\n",
      "1430517300  235.26  235.53  235.26  235.33   6.112802\n",
      "1430517600  235.33  235.53  235.45  235.50   3.830327\n",
      "1430517900  235.29  235.53  235.51  235.36   5.471679\n",
      "1430518200  235.17  235.37  235.37  235.17   2.368400\n",
      "1430518500  235.18  235.55  235.18  235.55  10.786310\n",
      "1430518800  235.20  235.89  235.58  235.57   9.016008\n",
      "1430519100  235.55  235.88  235.88  235.73   2.359877\n",
      "1430519400  235.64  235.68  235.68  235.67   7.938205\n",
      "1430519700  235.64  235.71  235.67  235.71   5.013779\n",
      "1430520000  235.50  236.07  235.70  235.67  26.680603\n",
      "1430520300  235.21  236.61  235.21  235.88   3.554280\n",
      "1430520600  235.65  235.90  235.81  235.70   8.800978\n",
      "1430520900  235.24  235.70  235.70  235.30  17.250855\n",
      "1430521200  234.87  235.30  235.30  235.00   4.752860\n",
      "1430521500  234.14  234.87  234.87  234.14  47.107060\n",
      "1430521800  234.01  234.14  234.14  234.14  14.380489\n",
      "1430522100  234.01  234.15  234.15  234.10  21.359682\n",
      "1430522400  234.01  234.14  234.02  234.11  13.241500\n",
      "1430522700  234.01  234.13  234.02  234.10  31.899816\n",
      "1430523000  234.00  234.10  234.01  234.02  27.309637\n",
      "1430523300  234.01  234.12  234.11  234.02   7.964440\n",
      "1430523600  234.00  234.07  234.07  234.01  19.703000\n",
      "1430523900  233.92  234.01  234.00  233.93  76.169068\n",
      "1430524200  233.01  234.00  234.00  233.02  20.772330\n",
      "1430524500  233.04  233.28  233.06  233.14  17.435848\n",
      "\n",
      "[288 rows x 5 columns]\n"
     ]
    }
   ],
   "source": [
    "start = datetime(2015,5,1)\n",
    "end = datetime(2015,5,2)\n",
    "\n",
    "# Get GDAX data\n",
    "gdax_pairs = ['BTC-USD']\n",
    "\n",
    "for pair in gdax_pairs:    \n",
    "    data = gdax_trade_downloader(pair, start, end, 5)\n",
    "\n",
    "    print(data)\n",
    "# Get Kraken data\n",
    "#kraken_pairs = ['XETHZUSD',\n",
    "               #'XETHZEUR',\n",
    "               #'XXBTZUSD',\n",
    "               #'XXBTZEUR',\n",
    "               #'XLTCZUSD',\n",
    "               #'XLTCZEUR']\n",
    "\n",
    "#for pair in kraken_pairs:\n",
    "#    print(pair)\n",
    "#    data, last = kraken_trade_downloader(pair, start, 5)\n",
    "#    print(data.head())\n",
    "\n",
    "    "
   ]
  },
  {
   "cell_type": "markdown",
   "metadata": {},
   "source": [
    "Helper functions to download sentiment data"
   ]
  },
  {
   "cell_type": "markdown",
   "metadata": {},
   "source": [
    "Data pre-processing"
   ]
  },
  {
   "cell_type": "code",
   "execution_count": null,
   "metadata": {},
   "outputs": [],
   "source": [
    "# Calculate growth rates. Growth rate prediction is the target"
   ]
  },
  {
   "cell_type": "markdown",
   "metadata": {},
   "source": [
    "Define RNN"
   ]
  },
  {
   "cell_type": "code",
   "execution_count": null,
   "metadata": {},
   "outputs": [],
   "source": [
    "#Basic RNN first\n",
    "#Then with multiple types of data, try a convnet + RNN"
   ]
  },
  {
   "cell_type": "markdown",
   "metadata": {},
   "source": [
    "Train RNN"
   ]
  },
  {
   "cell_type": "code",
   "execution_count": null,
   "metadata": {},
   "outputs": [],
   "source": []
  },
  {
   "cell_type": "markdown",
   "metadata": {},
   "source": [
    "Define test function"
   ]
  },
  {
   "cell_type": "code",
   "execution_count": null,
   "metadata": {},
   "outputs": [],
   "source": []
  },
  {
   "cell_type": "code",
   "execution_count": 4,
   "metadata": {},
   "outputs": [
    {
     "ename": "Exception",
     "evalue": "Failed to get exchange data for (2014-01-01 00:00:00, 2014-01-01 08:20:00)! Error message: []",
     "output_type": "error",
     "traceback": [
      "\u001b[1;31m---------------------------------------------------------------------------\u001b[0m",
      "\u001b[1;31mException\u001b[0m                                 Traceback (most recent call last)",
      "\u001b[1;32m<ipython-input-4-c001e7dea037>\u001b[0m in \u001b[0;36m<module>\u001b[1;34m()\u001b[0m\n\u001b[0;32m      3\u001b[0m                 \u001b[0mstart\u001b[0m\u001b[1;33m=\u001b[0m\u001b[0mstart\u001b[0m\u001b[1;33m,\u001b[0m\u001b[1;33m\u001b[0m\u001b[0m\n\u001b[0;32m      4\u001b[0m                 \u001b[0mend\u001b[0m\u001b[1;33m=\u001b[0m\u001b[0mend\u001b[0m\u001b[1;33m,\u001b[0m\u001b[1;33m\u001b[0m\u001b[0m\n\u001b[1;32m----> 5\u001b[1;33m                 granularity=5)\n\u001b[0m\u001b[0;32m      6\u001b[0m \u001b[1;33m\u001b[0m\u001b[0m\n\u001b[0;32m      7\u001b[0m \u001b[0mprint\u001b[0m\u001b[1;33m(\u001b[0m\u001b[0mdata\u001b[0m\u001b[1;33m.\u001b[0m\u001b[0mhead\u001b[0m\u001b[1;33m(\u001b[0m\u001b[1;33m)\u001b[0m\u001b[1;33m)\u001b[0m\u001b[1;33m\u001b[0m\u001b[0m\n",
      "\u001b[1;32m<ipython-input-1-eba07fd41a40>\u001b[0m in \u001b[0;36mgdax_request_trade_slice\u001b[1;34m(product_id, start, end, granularity)\u001b[0m\n\u001b[0;32m     40\u001b[0m         \u001b[1;32mif\u001b[0m \u001b[0mresponse\u001b[0m\u001b[1;33m.\u001b[0m\u001b[0mstatus_code\u001b[0m \u001b[1;33m!=\u001b[0m \u001b[1;36m200\u001b[0m \u001b[1;32mor\u001b[0m \u001b[1;32mnot\u001b[0m \u001b[0mlen\u001b[0m\u001b[1;33m(\u001b[0m\u001b[0mresponse\u001b[0m\u001b[1;33m.\u001b[0m\u001b[0mjson\u001b[0m\u001b[1;33m(\u001b[0m\u001b[1;33m)\u001b[0m\u001b[1;33m)\u001b[0m\u001b[1;33m:\u001b[0m\u001b[1;33m\u001b[0m\u001b[0m\n\u001b[0;32m     41\u001b[0m             \u001b[1;32mif\u001b[0m \u001b[0mretry_count\u001b[0m \u001b[1;33m+\u001b[0m \u001b[1;36m1\u001b[0m \u001b[1;33m==\u001b[0m \u001b[0mretries\u001b[0m\u001b[1;33m:\u001b[0m\u001b[1;33m\u001b[0m\u001b[0m\n\u001b[1;32m---> 42\u001b[1;33m                 \u001b[1;32mraise\u001b[0m \u001b[0mException\u001b[0m\u001b[1;33m(\u001b[0m\u001b[1;34m'Failed to get exchange data for ({}, {})! Error message: {}'\u001b[0m\u001b[1;33m.\u001b[0m\u001b[0mformat\u001b[0m\u001b[1;33m(\u001b[0m\u001b[0mstart\u001b[0m\u001b[1;33m,\u001b[0m \u001b[0mend\u001b[0m\u001b[1;33m,\u001b[0m \u001b[0mresponse\u001b[0m\u001b[1;33m.\u001b[0m\u001b[0mtext\u001b[0m\u001b[1;33m)\u001b[0m\u001b[1;33m)\u001b[0m\u001b[1;33m\u001b[0m\u001b[0m\n\u001b[0m\u001b[0;32m     43\u001b[0m             \u001b[1;32melse\u001b[0m\u001b[1;33m:\u001b[0m\u001b[1;33m\u001b[0m\u001b[0m\n\u001b[0;32m     44\u001b[0m                 \u001b[1;31m# Exponential back-off.\u001b[0m\u001b[1;33m\u001b[0m\u001b[1;33m\u001b[0m\u001b[0m\n",
      "\u001b[1;31mException\u001b[0m: Failed to get exchange data for (2014-01-01 00:00:00, 2014-01-01 08:20:00)! Error message: []"
     ]
    }
   ],
   "source": [
    "data = gdax_request_trade_slice(\n",
    "                product_id='ETH-USD',\n",
    "                start=start,\n",
    "                end=end,\n",
    "                granularity=5)\n",
    "\n",
    "print(data.head())"
   ]
  },
  {
   "cell_type": "code",
   "execution_count": 11,
   "metadata": {},
   "outputs": [
    {
     "name": "stdout",
     "output_type": "stream",
     "text": [
      "[]\n"
     ]
    }
   ],
   "source": [
    "start = datetime(2014,1,1,0,0)\n",
    "end = datetime(2014,1,1,8,20)\n",
    "iso_start = date_to_iso8601(start)\n",
    "iso_end = date_to_iso8601(end)\n",
    "\n",
    "\n",
    "data = requests.get('https://api.gdax.com/products/ETH-USD/candles', {'start': iso_start,\n",
    "                                                                     'end': iso_end,\n",
    "                                                                     'granularity': 5 * 60})\n",
    "print(data.json())"
   ]
  },
  {
   "cell_type": "code",
   "execution_count": 3,
   "metadata": {},
   "outputs": [
    {
     "name": "stdout",
     "output_type": "stream",
     "text": [
      "2014-01-01 00:00:00 2014-01-01 08:20:00\n"
     ]
    }
   ],
   "source": [
    "start = datetime(2014,1,1)\n",
    "end = datetime(2017,12,31)\n",
    "pair = 'ETH-USD'\n",
    "start, end = test(pair, start, end, 5)\n",
    "print(start, end)"
   ]
  },
  {
   "cell_type": "code",
   "execution_count": 10,
   "metadata": {},
   "outputs": [
    {
     "name": "stdout",
     "output_type": "stream",
     "text": [
      "[[1483228800, 8.11, 8.16, 8.16, 8.11, 107.89282299999999], [1483229100, 8.11, 8.14, 8.11, 8.14, 237.27294536], [1483229400, 8.14, 8.16, 8.14, 8.16, 33.25517664], [1483229700, 8.16, 8.21, 8.16, 8.21, 238.18848347], [1483230000, 8.22, 8.22, 8.22, 8.22, 1.8684608299999999], [1483230300, 8.22, 8.24, 8.22, 8.24, 12.5625353], [1483230600, 8.24, 8.24, 8.24, 8.24, 12.20208], [1483230900, 8.24, 8.24, 8.24, 8.24, 187.10167799999996], [1483231200, 8.24, 8.27, 8.24, 8.27, 38.33348796], [1483231500, 8.25, 8.27, 8.27, 8.26, 25.40013], [1483231800, 8.25, 8.27, 8.25, 8.26, 60.11463923000001], [1483232100, 8.25, 8.26, 8.26, 8.26, 23.564242], [1483232400, 8.26, 8.29, 8.26, 8.26, 221.64923731], [1483232700, 8.27, 8.29, 8.29, 8.29, 26.111549999999998], [1483233000, 8.27, 8.29, 8.29, 8.29, 23.138039999999997], [1483233300, 8.27, 8.29, 8.27, 8.28, 75.39184], [1483233600, 8.29, 8.29, 8.29, 8.29, 55.163439], [1483233900, 8.28, 8.29, 8.28, 8.29, 150.42397000000003], [1483234200, 8.28, 8.29, 8.29, 8.28, 6.85839], [1483234500, 8.27, 8.28, 8.27, 8.28, 25.48539758], [1483234800, 8.27, 8.28, 8.28, 8.28, 52.49133757999999], [1483235100, 8.28, 8.28, 8.28, 8.28, 13.38044], [1483235400, 8.28, 8.28, 8.28, 8.28, 136.34105], [1483235700, 8.28, 8.29, 8.28, 8.29, 244.14106516], [1483236300, 8.3, 8.3, 8.3, 8.3, 11.99329], [1483236900, 8.3, 8.3, 8.3, 8.3, 778.4937303099999], [1483237200, 8.31, 8.33, 8.31, 8.33, 52.062432040000004], [1483237500, 8.34, 8.45, 8.34, 8.45, 133.74128824], [1483237800, 8.47, 8.52, 8.47, 8.5, 378.98367], [1483238100, 8.51, 8.52, 8.52, 8.51, 29.842660000000002], [1483238400, 8.51, 8.53, 8.52, 8.51, 53.829257], [1483238700, 8.49, 8.51, 8.5, 8.49, 41.981529], [1483239000, 8.46, 8.49, 8.49, 8.47, 111.22843414], [1483239300, 8.47, 8.47, 8.47, 8.47, 1.00178], [1483239600, 8.45, 8.46, 8.45, 8.46, 44.932345999999995], [1483239900, 8.46, 8.47, 8.46, 8.47, 70.98224], [1483240200, 8.48, 8.49, 8.49, 8.49, 3.9294310900000005], [1483240500, 8.51, 8.51, 8.51, 8.51, 0.54], [1483240800, 8.53, 8.54, 8.53, 8.54, 613.37667384], [1483241100, 8.55, 8.59, 8.55, 8.59, 395.899368], [1483241400, 8.59, 8.6, 8.59, 8.59, 160.180825], [1483241700, 8.59, 8.6, 8.6, 8.59, 300.90967851000005], [1483242000, 8.58, 8.59, 8.58, 8.59, 189.02837], [1483242300, 8.58, 8.59, 8.59, 8.58, 32.193070000000006], [1483242600, 8.58, 8.59, 8.58, 8.59, 162.674689], [1483242900, 8.59, 8.59, 8.59, 8.59, 210.94740699], [1483243200, 8.58, 8.6, 8.58, 8.6, 20.799000000000003], [1483243500, 8.57, 8.6, 8.6, 8.57, 124.11205], [1483243800, 8.57, 8.58, 8.57, 8.58, 39.71322457], [1483244100, 8.55, 8.58, 8.58, 8.55, 171.108798], [1483244400, 8.53, 8.57, 8.57, 8.54, 33.13166], [1483244700, 8.5, 8.52, 8.52, 8.5, 0.483114], [1483245000, 8.52, 8.52, 8.52, 8.52, 0.1], [1483245300, 8.53, 8.54, 8.53, 8.53, 9.518052], [1483245600, 8.53, 8.54, 8.54, 8.53, 110.801876], [1483245900, 8.49, 8.54, 8.54, 8.49, 101.4822861], [1483246200, 8.51, 8.53, 8.53, 8.51, 32.04030516], [1483246500, 8.53, 8.54, 8.53, 8.53, 130.95511303], [1483246800, 8.53, 8.54, 8.53, 8.53, 20.538559999999997], [1483247100, 8.51, 8.53, 8.51, 8.53, 8.950619999999999], [1483247400, 8.5, 8.53, 8.52, 8.5, 88.53405089], [1483247700, 8.5, 8.52, 8.52, 8.5, 65.30411389], [1483248000, 8.48, 8.51, 8.51, 8.48, 160.85084005], [1483248300, 8.49, 8.5, 8.49, 8.5, 192.503117], [1483248600, 8.48, 8.52, 8.5, 8.5, 180.38294645], [1483248900, 8.48, 8.51, 8.51, 8.49, 93.8209003], [1483249200, 8.48, 8.49, 8.49, 8.48, 11.0583666], [1483249500, 8.44, 8.48, 8.48, 8.44, 66.15662569000001], [1483249800, 8.39, 8.44, 8.43, 8.39, 234.882032], [1483250100, 8.37, 8.37, 8.37, 8.37, 0.08519754], [1483250400, 8.38, 8.38, 8.38, 8.38, 24.26113], [1483250700, 8.39, 8.39, 8.39, 8.39, 0.14171723], [1483251000, 8.41, 8.41, 8.41, 8.41, 1.00168], [1483251300, 8.41, 8.42, 8.41, 8.42, 191.66755768000002], [1483251600, 8.41, 8.41, 8.41, 8.41, 0.28262216], [1483251900, 8.37, 8.39, 8.39, 8.37, 0.28590291], [1483252200, 8.41, 8.41, 8.41, 8.41, 0.08473473], [1483252500, 8.42, 8.42, 8.42, 8.42, 6.19906658], [1483252800, 8.42, 8.42, 8.42, 8.42, 1.76018658], [1483253100, 8.43, 8.47, 8.43, 8.43, 13.491958729999999], [1483253400, 8.44, 8.45, 8.44, 8.45, 0.13590000000000002], [1483254000, 8.42, 8.46, 8.46, 8.42, 138.62119231000003], [1483254300, 8.45, 8.47, 8.47, 8.45, 19.095180000000003], [1483254600, 8.47, 8.49, 8.47, 8.49, 62.71621038], [1483254900, 8.45, 8.46, 8.46, 8.46, 0.39964422], [1483255200, 8.46, 8.46, 8.46, 8.46, 2.9474801], [1483255800, 8.46, 8.46, 8.46, 8.46, 0.0102], [1483256100, 8.41, 8.46, 8.41, 8.46, 13.844850000000001], [1483256400, 8.41, 8.47, 8.47, 8.41, 83.80092762999999], [1483256700, 8.43, 8.43, 8.43, 8.43, 15.25768], [1483257000, 8.41, 8.44, 8.41, 8.44, 6.145157630000001], [1483257300, 8.43, 8.43, 8.43, 8.43, 0.13930348], [1483257600, 8.43, 8.43, 8.43, 8.43, 0.0102], [1483257900, 8.42, 8.43, 8.42, 8.43, 0.14171724], [1483258200, 8.44, 8.44, 8.44, 8.44, 5]]\n"
     ]
    }
   ],
   "source": [
    "start = datetime(2017,1,1,0,0)\n",
    "end = datetime(2017,1,1,8,20)\n",
    "\n",
    "data = gdax_request_trade_slice('ETH-USD', start, end, 5)\n",
    "print(data)"
   ]
  }
 ],
 "metadata": {
  "kernelspec": {
   "display_name": "Python 3",
   "language": "python",
   "name": "python3"
  },
  "language_info": {
   "codemirror_mode": {
    "name": "ipython",
    "version": 3
   },
   "file_extension": ".py",
   "mimetype": "text/x-python",
   "name": "python",
   "nbconvert_exporter": "python",
   "pygments_lexer": "ipython3",
   "version": "3.6.3"
  }
 },
 "nbformat": 4,
 "nbformat_minor": 2
}
